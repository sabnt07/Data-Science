{
 "cells": [
  {
   "cell_type": "markdown",
   "metadata": {},
   "source": [
    "### What is data science?"
   ]
  },
  {
   "cell_type": "markdown",
   "metadata": {},
   "source": [
    "Data science, also known as data-driven science, is an interdisciplinary field of scientific methods, processes, algorithms and systems to extract knowledge or insights from data in various forms, either structured or unstructured, similar to data mining.\n",
    "\n",
    "A Very Short History of Data Science:\n",
    "http://www.forbes.com/sites/gilpress/2013/05/28/a-very-short-history-of-data-science/\n",
    "\n"
   ]
  },
  {
   "cell_type": "markdown",
   "metadata": {},
   "source": [
    "### Where data comes from?\n",
    "\n",
    "Data is everywhere: your government, your web server,your business partners, even your body. While we aren’t\n",
    "drowning in a sea of data, we’re finding that almost everything can (or has) been instrumented. \n",
    "\n",
    "Example: https://www.kaggle.com/datasets\n"
   ]
  },
  {
   "cell_type": "markdown",
   "metadata": {},
   "source": [
    "### What being a data scientist actually looks like ?"
   ]
  },
  {
   "cell_type": "markdown",
   "metadata": {},
   "source": [
    "Data scientists can impact the decisions that managers make, with respect to product management and operational efficiency.\n",
    "\n",
    "\"It varies by company, but overall, it could be generating insights for high-level decisions, product decisions, business decisions, or strategy decisions,\"\n",
    "\n",
    "The job can also include building dashboards to display data in a more visually clear way. A single dashboard can include several charts and graphs containing different information.\n",
    "\n",
    "\"In Glassdoor's case, it could be building salary estimates, looking at how to return results for job search,\". Those are kind of the big areas. Insights, dashboards, and building products.\"\n"
   ]
  },
  {
   "cell_type": "markdown",
   "metadata": {},
   "source": [
    "### The main difference between a data scientist and a data engineer"
   ]
  },
  {
   "cell_type": "markdown",
   "metadata": {},
   "source": [
    "Although there is quite a lot of overlap between data scientists and data engineers, their roles are not to be confused.\n",
    "\n",
    "\"A data engineer is responsible for making sure that data scientists have all the data that we need and that we get it in a timely manner,\"\n",
    "\"Data engineers are responsible for constructing data pipelines and often have to use complex tools and techniques to handle data at scale.\"\n",
    "\"Unlike [data science], data engineering leans a lot more towards a software development skill set.\" \n",
    "\n",
    "Data scientists really depend on data engineers, \"because we need the data processed, and we need it available in a way that we can get to it without waiting hours.\n",
    "So they build tools and process the data in a way that allows us to do that.\""
   ]
  },
  {
   "cell_type": "markdown",
   "metadata": {},
   "source": [
    "### Misconceptions about the job"
   ]
  },
  {
   "cell_type": "markdown",
   "metadata": {},
   "source": [
    "\"One of the misconceptions is that data scientists are just datamonkeys, that others in the company come up with all the questions that we need to answer, and you have a bunch of requests, and they are just going to answer your question and come back to you with that,\" Instead, data scientists can impact the decisions that managers make with respect to product management and operational efficiency.\n",
    "\n",
    "\"With almost every project, as we start digging through the data, we find new directions to go to, or maybe we find things we didn't know were there, or maybe the outcome was totally different from what we expected.\n",
    "\n",
    "\"You're not just answering questions given to you by the managers, which I think is sometimes what people might think to hire one for,\" Data Scientist"
   ]
  },
  {
   "cell_type": "markdown",
   "metadata": {},
   "source": [
    "### What is the data in a scientific experiment?"
   ]
  },
  {
   "cell_type": "markdown",
   "metadata": {},
   "source": [
    "Data are the information gained from observing and testing an experiment. Scientists use data to gain understanding and make conclusions. Scientists often use graphs or tables to show their data and research findings. To learn more about how scientists collect and use data, check out our Data Domain."
   ]
  },
  {
   "cell_type": "markdown",
   "metadata": {},
   "source": [
    "### What is the data science process?"
   ]
  },
  {
   "cell_type": "markdown",
   "metadata": {},
   "source": [
    "Data science lifecycle. The Team Data Science Process (TDSP) provides a lifecycle to structure the development of your data science projects. The lifecycle outlines the steps, from start to finish, that projects usually follow when they are executed.\n",
    "\n",
    "TDSP comprises of the following key components:\n",
    "\n",
    "    A data science lifecycle definition\n",
    "    A standardized project structure\n",
    "    Infrastructure and resources for data science projects\n",
    "    Tools and utilities for project execution\n",
    "    \n",
    "\n",
    "* **Reference Link:** https://docs.microsoft.com/en-us/azure/machine-learning/team-data-science-process/overview\n"
   ]
  },
  {
   "cell_type": "markdown",
   "metadata": {},
   "source": [
    "### What is the definition of scientific data?"
   ]
  },
  {
   "cell_type": "markdown",
   "metadata": {},
   "source": [
    "Scientific data is defined as information collected using specific methods for a specific purpose of studying or analyzing. Data collected in a lab experiment done under controlled conditions is an example of scientific data.YourDictionary definition and usage example.\n",
    "\n",
    "* **Reference Link:** http://www.yourdictionary.com/scientific-data"
   ]
  },
  {
   "cell_type": "markdown",
   "metadata": {},
   "source": [
    "### What is big data and data science?"
   ]
  },
  {
   "cell_type": "markdown",
   "metadata": {},
   "source": [
    "Data Science: Dealing with unstructured and structured data, Data Science is a field that comprises of everything that related to data cleansing, preparation, and analysis. Big Data: Big Data refers to humongous volumes of data that cannot be processed effectively with the traditional applications that exist.\n",
    "\n",
    "* **Reference Link:** https://www.quora.com/What-is-difference-between-Data-Science-and-Big-Data    "
   ]
  },
  {
   "cell_type": "markdown",
   "metadata": {},
   "source": [
    "###  How is data analyzed?\n",
    "\n",
    "Data analysis, also known as analysis of data or data analytics, is a process of inspecting, cleansing, transforming, and modeling data with the goal of discovering useful information, suggesting conclusions, and supporting decision-making.\n",
    "\n",
    "* ** Reference Link ** https://en.wikipedia.org/wiki/Data_analysis"
   ]
  },
  {
   "cell_type": "markdown",
   "metadata": {},
   "source": [
    "### What is a data scientist salary?\n",
    "\n",
    "The national average salary for a Data Scientist is $120,931 in United States. Filter by location to see Data Scientist salaries in your area. Salary estimates are based on 2,951 salaries submitted anonymously to Glassdoor by Data Scientist employees.\n",
    "\n",
    "Aside from the great pay and ample job opportunity, data scientists help steer their companies in the right direction.\n",
    "\n",
    "\"I think that it's a really exciting field,\" Cheng told Business Insider. \"More and more companies are starting to realize the potential they have in their data. A data scientist who's answering questions for you does their own delving in and serves as the detective.\n",
    "\n",
    "\"You have to be open to what comes out of the data. What is it telling you versus what you believe in? This can happen when we look at A/B tests, when we look at products, and it can be in strategy, where we find what's working and what's not.\"\n",
    "\n",
    "* **Reference Link ** https://www.glassdoor.com/Salaries/data-scientist-salary-SRCH_KO0,14.htm"
   ]
  },
  {
   "cell_type": "markdown",
   "metadata": {},
   "source": [
    "### Most useful skills for a data scientist to have\n",
    "\n",
    "Non-Technical Skills\n",
    "\n",
    "* Non Technical Skill*\n",
    "Education. Burtch provides some numbers related to the educational level of data scientists, indicating that 88% of Data Scientists have, at minimum, a Master's degree. ...\n",
    "    Intellectual Curiosity. ...\n",
    "    Domain Knowledge/Business Acumen. ...\n",
    "    Communication Skills. ...\n",
    "    Career Mapping/Goals.\n",
    "    linear Algebra\n",
    "    Statistic and probability\n",
    "    \n",
    "* Main Tecnical Skill\n",
    "  \n",
    "• SQL\n",
    "• Python\n",
    "• R\n",
    "• Modeling\n",
    "• Dashboarding\n",
    "• Depending on the data scientist you are you can use Tableau\n",
    "• More recent big data tools like Hadoop \n",
    "  \n",
    "  \n",
    "* **Reference Link ** https://www.kdnuggets.com/2016/05/10-must-have-skills-data-scientist.html"
   ]
  },
  {
   "cell_type": "markdown",
   "metadata": {},
   "source": [
    "### What is a data science course here?\n",
    "\n",
    "Data Manipulation. Data Analysis with Statistics and Machine Learning. Data Communication with Information Visualization.\n",
    "\n",
    "Main topics\n",
    "- numpy\n",
    "- panda \n",
    "- matplotlib\n",
    "- sklern\n"
   ]
  },
  {
   "cell_type": "markdown",
   "metadata": {},
   "source": [
    "### How do I get a data science job?\n",
    "\n",
    "Take a free online class. Free online courses from top universities or top subject-matter experts are available via sites such as Coursera, datacamp and others\n",
    "    - more practice Practice. ...\n",
    "    - Join a LinkedIn group. ...\n",
    "    - Get to know working data scientists. ...\n",
    "    - Consider moving.\n",
    "    - participate kaggle data scientists competition "
   ]
  },
  {
   "cell_type": "markdown",
   "metadata": {},
   "source": [
    "### What should a non-Data Scientist know about Data Science?"
   ]
  },
  {
   "cell_type": "markdown",
   "metadata": {},
   "source": [
    "It's very important to use that money well.\n",
    "I think eventually everybody is going to have\n",
    "some form of digital literacy.\n",
    "It's essential because everybody is\n",
    "generating the data that data scientists today is analyzing.\n",
    "So I think everybody needs to have\n",
    "some understanding of what the field of data science is about.\n",
    "I think they need to have some literacy in the techniques,\n",
    "and they really need to understand\n",
    "what data scientists are doing with their data\n",
    "that they are generating themselves,\n",
    "and how that data's being applied.\n",
    "I think it's essential if you're participating\n",
    "in today's data-rich society to that\n",
    "have a little bit of training in this area.\n"
   ]
  },
  {
   "cell_type": "markdown",
   "metadata": {},
   "source": [
    "### Defining data literacy \n",
    "\n",
    "http://whatis.techtarget.com/definition/data-literacy"
   ]
  },
  {
   "cell_type": "markdown",
   "metadata": {},
   "source": [
    "### DATA SCIENCE ADDITIONAL READINGS:\n",
    "    \n",
    "ASA Whitepaper: Discovery with Data: Leveraging Statistics with Computer Science to Transform Science and Society. http://www.amstat.org/policy/pdfs/BigDataStatisticsJune2014.pdf\n",
    "\n",
    "A Cartoon Guide to Statistics http://www.amazon.com/Cartoon-Guide-Statistics-Larry-Gonick/dp/0062731025\n",
    "\n",
    "Naked Statistics http://www.amazon.com/Naked-Statistics-Stripping-Dread-Data/dp/1480590185"
   ]
  },
  {
   "cell_type": "code",
   "execution_count": null,
   "metadata": {
    "collapsed": true
   },
   "outputs": [],
   "source": []
  }
 ],
 "metadata": {
  "kernelspec": {
   "display_name": "Python 3",
   "language": "python",
   "name": "python3"
  },
  "language_info": {
   "codemirror_mode": {
    "name": "ipython",
    "version": 3
   },
   "file_extension": ".py",
   "mimetype": "text/x-python",
   "name": "python",
   "nbconvert_exporter": "python",
   "pygments_lexer": "ipython3",
   "version": "3.5.2"
  }
 },
 "nbformat": 4,
 "nbformat_minor": 1
}
