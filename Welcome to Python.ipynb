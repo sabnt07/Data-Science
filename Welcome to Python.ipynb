{
 "cells": [
  {
   "cell_type": "code",
   "execution_count": 2,
   "metadata": {},
   "outputs": [
    {
     "data": {
      "application/javascript": [
       "/* Put everything inside the global mpl namespace */\n",
       "window.mpl = {};\n",
       "\n",
       "\n",
       "mpl.get_websocket_type = function() {\n",
       "    if (typeof(WebSocket) !== 'undefined') {\n",
       "        return WebSocket;\n",
       "    } else if (typeof(MozWebSocket) !== 'undefined') {\n",
       "        return MozWebSocket;\n",
       "    } else {\n",
       "        alert('Your browser does not have WebSocket support.' +\n",
       "              'Please try Chrome, Safari or Firefox ≥ 6. ' +\n",
       "              'Firefox 4 and 5 are also supported but you ' +\n",
       "              'have to enable WebSockets in about:config.');\n",
       "    };\n",
       "}\n",
       "\n",
       "mpl.figure = function(figure_id, websocket, ondownload, parent_element) {\n",
       "    this.id = figure_id;\n",
       "\n",
       "    this.ws = websocket;\n",
       "\n",
       "    this.supports_binary = (this.ws.binaryType != undefined);\n",
       "\n",
       "    if (!this.supports_binary) {\n",
       "        var warnings = document.getElementById(\"mpl-warnings\");\n",
       "        if (warnings) {\n",
       "            warnings.style.display = 'block';\n",
       "            warnings.textContent = (\n",
       "                \"This browser does not support binary websocket messages. \" +\n",
       "                    \"Performance may be slow.\");\n",
       "        }\n",
       "    }\n",
       "\n",
       "    this.imageObj = new Image();\n",
       "\n",
       "    this.context = undefined;\n",
       "    this.message = undefined;\n",
       "    this.canvas = undefined;\n",
       "    this.rubberband_canvas = undefined;\n",
       "    this.rubberband_context = undefined;\n",
       "    this.format_dropdown = undefined;\n",
       "\n",
       "    this.image_mode = 'full';\n",
       "\n",
       "    this.root = $('<div/>');\n",
       "    this._root_extra_style(this.root)\n",
       "    this.root.attr('style', 'display: inline-block');\n",
       "\n",
       "    $(parent_element).append(this.root);\n",
       "\n",
       "    this._init_header(this);\n",
       "    this._init_canvas(this);\n",
       "    this._init_toolbar(this);\n",
       "\n",
       "    var fig = this;\n",
       "\n",
       "    this.waiting = false;\n",
       "\n",
       "    this.ws.onopen =  function () {\n",
       "            fig.send_message(\"supports_binary\", {value: fig.supports_binary});\n",
       "            fig.send_message(\"send_image_mode\", {});\n",
       "            if (mpl.ratio != 1) {\n",
       "                fig.send_message(\"set_dpi_ratio\", {'dpi_ratio': mpl.ratio});\n",
       "            }\n",
       "            fig.send_message(\"refresh\", {});\n",
       "        }\n",
       "\n",
       "    this.imageObj.onload = function() {\n",
       "            if (fig.image_mode == 'full') {\n",
       "                // Full images could contain transparency (where diff images\n",
       "                // almost always do), so we need to clear the canvas so that\n",
       "                // there is no ghosting.\n",
       "                fig.context.clearRect(0, 0, fig.canvas.width, fig.canvas.height);\n",
       "            }\n",
       "            fig.context.drawImage(fig.imageObj, 0, 0);\n",
       "        };\n",
       "\n",
       "    this.imageObj.onunload = function() {\n",
       "        fig.ws.close();\n",
       "    }\n",
       "\n",
       "    this.ws.onmessage = this._make_on_message_function(this);\n",
       "\n",
       "    this.ondownload = ondownload;\n",
       "}\n",
       "\n",
       "mpl.figure.prototype._init_header = function() {\n",
       "    var titlebar = $(\n",
       "        '<div class=\"ui-dialog-titlebar ui-widget-header ui-corner-all ' +\n",
       "        'ui-helper-clearfix\"/>');\n",
       "    var titletext = $(\n",
       "        '<div class=\"ui-dialog-title\" style=\"width: 100%; ' +\n",
       "        'text-align: center; padding: 3px;\"/>');\n",
       "    titlebar.append(titletext)\n",
       "    this.root.append(titlebar);\n",
       "    this.header = titletext[0];\n",
       "}\n",
       "\n",
       "\n",
       "\n",
       "mpl.figure.prototype._canvas_extra_style = function(canvas_div) {\n",
       "\n",
       "}\n",
       "\n",
       "\n",
       "mpl.figure.prototype._root_extra_style = function(canvas_div) {\n",
       "\n",
       "}\n",
       "\n",
       "mpl.figure.prototype._init_canvas = function() {\n",
       "    var fig = this;\n",
       "\n",
       "    var canvas_div = $('<div/>');\n",
       "\n",
       "    canvas_div.attr('style', 'position: relative; clear: both; outline: 0');\n",
       "\n",
       "    function canvas_keyboard_event(event) {\n",
       "        return fig.key_event(event, event['data']);\n",
       "    }\n",
       "\n",
       "    canvas_div.keydown('key_press', canvas_keyboard_event);\n",
       "    canvas_div.keyup('key_release', canvas_keyboard_event);\n",
       "    this.canvas_div = canvas_div\n",
       "    this._canvas_extra_style(canvas_div)\n",
       "    this.root.append(canvas_div);\n",
       "\n",
       "    var canvas = $('<canvas/>');\n",
       "    canvas.addClass('mpl-canvas');\n",
       "    canvas.attr('style', \"left: 0; top: 0; z-index: 0; outline: 0\")\n",
       "\n",
       "    this.canvas = canvas[0];\n",
       "    this.context = canvas[0].getContext(\"2d\");\n",
       "\n",
       "    var backingStore = this.context.backingStorePixelRatio ||\n",
       "\tthis.context.webkitBackingStorePixelRatio ||\n",
       "\tthis.context.mozBackingStorePixelRatio ||\n",
       "\tthis.context.msBackingStorePixelRatio ||\n",
       "\tthis.context.oBackingStorePixelRatio ||\n",
       "\tthis.context.backingStorePixelRatio || 1;\n",
       "\n",
       "    mpl.ratio = (window.devicePixelRatio || 1) / backingStore;\n",
       "\n",
       "    var rubberband = $('<canvas/>');\n",
       "    rubberband.attr('style', \"position: absolute; left: 0; top: 0; z-index: 1;\")\n",
       "\n",
       "    var pass_mouse_events = true;\n",
       "\n",
       "    canvas_div.resizable({\n",
       "        start: function(event, ui) {\n",
       "            pass_mouse_events = false;\n",
       "        },\n",
       "        resize: function(event, ui) {\n",
       "            fig.request_resize(ui.size.width, ui.size.height);\n",
       "        },\n",
       "        stop: function(event, ui) {\n",
       "            pass_mouse_events = true;\n",
       "            fig.request_resize(ui.size.width, ui.size.height);\n",
       "        },\n",
       "    });\n",
       "\n",
       "    function mouse_event_fn(event) {\n",
       "        if (pass_mouse_events)\n",
       "            return fig.mouse_event(event, event['data']);\n",
       "    }\n",
       "\n",
       "    rubberband.mousedown('button_press', mouse_event_fn);\n",
       "    rubberband.mouseup('button_release', mouse_event_fn);\n",
       "    // Throttle sequential mouse events to 1 every 20ms.\n",
       "    rubberband.mousemove('motion_notify', mouse_event_fn);\n",
       "\n",
       "    rubberband.mouseenter('figure_enter', mouse_event_fn);\n",
       "    rubberband.mouseleave('figure_leave', mouse_event_fn);\n",
       "\n",
       "    canvas_div.on(\"wheel\", function (event) {\n",
       "        event = event.originalEvent;\n",
       "        event['data'] = 'scroll'\n",
       "        if (event.deltaY < 0) {\n",
       "            event.step = 1;\n",
       "        } else {\n",
       "            event.step = -1;\n",
       "        }\n",
       "        mouse_event_fn(event);\n",
       "    });\n",
       "\n",
       "    canvas_div.append(canvas);\n",
       "    canvas_div.append(rubberband);\n",
       "\n",
       "    this.rubberband = rubberband;\n",
       "    this.rubberband_canvas = rubberband[0];\n",
       "    this.rubberband_context = rubberband[0].getContext(\"2d\");\n",
       "    this.rubberband_context.strokeStyle = \"#000000\";\n",
       "\n",
       "    this._resize_canvas = function(width, height) {\n",
       "        // Keep the size of the canvas, canvas container, and rubber band\n",
       "        // canvas in synch.\n",
       "        canvas_div.css('width', width)\n",
       "        canvas_div.css('height', height)\n",
       "\n",
       "        canvas.attr('width', width * mpl.ratio);\n",
       "        canvas.attr('height', height * mpl.ratio);\n",
       "        canvas.attr('style', 'width: ' + width + 'px; height: ' + height + 'px;');\n",
       "\n",
       "        rubberband.attr('width', width);\n",
       "        rubberband.attr('height', height);\n",
       "    }\n",
       "\n",
       "    // Set the figure to an initial 600x600px, this will subsequently be updated\n",
       "    // upon first draw.\n",
       "    this._resize_canvas(600, 600);\n",
       "\n",
       "    // Disable right mouse context menu.\n",
       "    $(this.rubberband_canvas).bind(\"contextmenu\",function(e){\n",
       "        return false;\n",
       "    });\n",
       "\n",
       "    function set_focus () {\n",
       "        canvas.focus();\n",
       "        canvas_div.focus();\n",
       "    }\n",
       "\n",
       "    window.setTimeout(set_focus, 100);\n",
       "}\n",
       "\n",
       "mpl.figure.prototype._init_toolbar = function() {\n",
       "    var fig = this;\n",
       "\n",
       "    var nav_element = $('<div/>')\n",
       "    nav_element.attr('style', 'width: 100%');\n",
       "    this.root.append(nav_element);\n",
       "\n",
       "    // Define a callback function for later on.\n",
       "    function toolbar_event(event) {\n",
       "        return fig.toolbar_button_onclick(event['data']);\n",
       "    }\n",
       "    function toolbar_mouse_event(event) {\n",
       "        return fig.toolbar_button_onmouseover(event['data']);\n",
       "    }\n",
       "\n",
       "    for(var toolbar_ind in mpl.toolbar_items) {\n",
       "        var name = mpl.toolbar_items[toolbar_ind][0];\n",
       "        var tooltip = mpl.toolbar_items[toolbar_ind][1];\n",
       "        var image = mpl.toolbar_items[toolbar_ind][2];\n",
       "        var method_name = mpl.toolbar_items[toolbar_ind][3];\n",
       "\n",
       "        if (!name) {\n",
       "            // put a spacer in here.\n",
       "            continue;\n",
       "        }\n",
       "        var button = $('<button/>');\n",
       "        button.addClass('ui-button ui-widget ui-state-default ui-corner-all ' +\n",
       "                        'ui-button-icon-only');\n",
       "        button.attr('role', 'button');\n",
       "        button.attr('aria-disabled', 'false');\n",
       "        button.click(method_name, toolbar_event);\n",
       "        button.mouseover(tooltip, toolbar_mouse_event);\n",
       "\n",
       "        var icon_img = $('<span/>');\n",
       "        icon_img.addClass('ui-button-icon-primary ui-icon');\n",
       "        icon_img.addClass(image);\n",
       "        icon_img.addClass('ui-corner-all');\n",
       "\n",
       "        var tooltip_span = $('<span/>');\n",
       "        tooltip_span.addClass('ui-button-text');\n",
       "        tooltip_span.html(tooltip);\n",
       "\n",
       "        button.append(icon_img);\n",
       "        button.append(tooltip_span);\n",
       "\n",
       "        nav_element.append(button);\n",
       "    }\n",
       "\n",
       "    var fmt_picker_span = $('<span/>');\n",
       "\n",
       "    var fmt_picker = $('<select/>');\n",
       "    fmt_picker.addClass('mpl-toolbar-option ui-widget ui-widget-content');\n",
       "    fmt_picker_span.append(fmt_picker);\n",
       "    nav_element.append(fmt_picker_span);\n",
       "    this.format_dropdown = fmt_picker[0];\n",
       "\n",
       "    for (var ind in mpl.extensions) {\n",
       "        var fmt = mpl.extensions[ind];\n",
       "        var option = $(\n",
       "            '<option/>', {selected: fmt === mpl.default_extension}).html(fmt);\n",
       "        fmt_picker.append(option)\n",
       "    }\n",
       "\n",
       "    // Add hover states to the ui-buttons\n",
       "    $( \".ui-button\" ).hover(\n",
       "        function() { $(this).addClass(\"ui-state-hover\");},\n",
       "        function() { $(this).removeClass(\"ui-state-hover\");}\n",
       "    );\n",
       "\n",
       "    var status_bar = $('<span class=\"mpl-message\"/>');\n",
       "    nav_element.append(status_bar);\n",
       "    this.message = status_bar[0];\n",
       "}\n",
       "\n",
       "mpl.figure.prototype.request_resize = function(x_pixels, y_pixels) {\n",
       "    // Request matplotlib to resize the figure. Matplotlib will then trigger a resize in the client,\n",
       "    // which will in turn request a refresh of the image.\n",
       "    this.send_message('resize', {'width': x_pixels, 'height': y_pixels});\n",
       "}\n",
       "\n",
       "mpl.figure.prototype.send_message = function(type, properties) {\n",
       "    properties['type'] = type;\n",
       "    properties['figure_id'] = this.id;\n",
       "    this.ws.send(JSON.stringify(properties));\n",
       "}\n",
       "\n",
       "mpl.figure.prototype.send_draw_message = function() {\n",
       "    if (!this.waiting) {\n",
       "        this.waiting = true;\n",
       "        this.ws.send(JSON.stringify({type: \"draw\", figure_id: this.id}));\n",
       "    }\n",
       "}\n",
       "\n",
       "\n",
       "mpl.figure.prototype.handle_save = function(fig, msg) {\n",
       "    var format_dropdown = fig.format_dropdown;\n",
       "    var format = format_dropdown.options[format_dropdown.selectedIndex].value;\n",
       "    fig.ondownload(fig, format);\n",
       "}\n",
       "\n",
       "\n",
       "mpl.figure.prototype.handle_resize = function(fig, msg) {\n",
       "    var size = msg['size'];\n",
       "    if (size[0] != fig.canvas.width || size[1] != fig.canvas.height) {\n",
       "        fig._resize_canvas(size[0], size[1]);\n",
       "        fig.send_message(\"refresh\", {});\n",
       "    };\n",
       "}\n",
       "\n",
       "mpl.figure.prototype.handle_rubberband = function(fig, msg) {\n",
       "    var x0 = msg['x0'] / mpl.ratio;\n",
       "    var y0 = (fig.canvas.height - msg['y0']) / mpl.ratio;\n",
       "    var x1 = msg['x1'] / mpl.ratio;\n",
       "    var y1 = (fig.canvas.height - msg['y1']) / mpl.ratio;\n",
       "    x0 = Math.floor(x0) + 0.5;\n",
       "    y0 = Math.floor(y0) + 0.5;\n",
       "    x1 = Math.floor(x1) + 0.5;\n",
       "    y1 = Math.floor(y1) + 0.5;\n",
       "    var min_x = Math.min(x0, x1);\n",
       "    var min_y = Math.min(y0, y1);\n",
       "    var width = Math.abs(x1 - x0);\n",
       "    var height = Math.abs(y1 - y0);\n",
       "\n",
       "    fig.rubberband_context.clearRect(\n",
       "        0, 0, fig.canvas.width, fig.canvas.height);\n",
       "\n",
       "    fig.rubberband_context.strokeRect(min_x, min_y, width, height);\n",
       "}\n",
       "\n",
       "mpl.figure.prototype.handle_figure_label = function(fig, msg) {\n",
       "    // Updates the figure title.\n",
       "    fig.header.textContent = msg['label'];\n",
       "}\n",
       "\n",
       "mpl.figure.prototype.handle_cursor = function(fig, msg) {\n",
       "    var cursor = msg['cursor'];\n",
       "    switch(cursor)\n",
       "    {\n",
       "    case 0:\n",
       "        cursor = 'pointer';\n",
       "        break;\n",
       "    case 1:\n",
       "        cursor = 'default';\n",
       "        break;\n",
       "    case 2:\n",
       "        cursor = 'crosshair';\n",
       "        break;\n",
       "    case 3:\n",
       "        cursor = 'move';\n",
       "        break;\n",
       "    }\n",
       "    fig.rubberband_canvas.style.cursor = cursor;\n",
       "}\n",
       "\n",
       "mpl.figure.prototype.handle_message = function(fig, msg) {\n",
       "    fig.message.textContent = msg['message'];\n",
       "}\n",
       "\n",
       "mpl.figure.prototype.handle_draw = function(fig, msg) {\n",
       "    // Request the server to send over a new figure.\n",
       "    fig.send_draw_message();\n",
       "}\n",
       "\n",
       "mpl.figure.prototype.handle_image_mode = function(fig, msg) {\n",
       "    fig.image_mode = msg['mode'];\n",
       "}\n",
       "\n",
       "mpl.figure.prototype.updated_canvas_event = function() {\n",
       "    // Called whenever the canvas gets updated.\n",
       "    this.send_message(\"ack\", {});\n",
       "}\n",
       "\n",
       "// A function to construct a web socket function for onmessage handling.\n",
       "// Called in the figure constructor.\n",
       "mpl.figure.prototype._make_on_message_function = function(fig) {\n",
       "    return function socket_on_message(evt) {\n",
       "        if (evt.data instanceof Blob) {\n",
       "            /* FIXME: We get \"Resource interpreted as Image but\n",
       "             * transferred with MIME type text/plain:\" errors on\n",
       "             * Chrome.  But how to set the MIME type?  It doesn't seem\n",
       "             * to be part of the websocket stream */\n",
       "            evt.data.type = \"image/png\";\n",
       "\n",
       "            /* Free the memory for the previous frames */\n",
       "            if (fig.imageObj.src) {\n",
       "                (window.URL || window.webkitURL).revokeObjectURL(\n",
       "                    fig.imageObj.src);\n",
       "            }\n",
       "\n",
       "            fig.imageObj.src = (window.URL || window.webkitURL).createObjectURL(\n",
       "                evt.data);\n",
       "            fig.updated_canvas_event();\n",
       "            fig.waiting = false;\n",
       "            return;\n",
       "        }\n",
       "        else if (typeof evt.data === 'string' && evt.data.slice(0, 21) == \"data:image/png;base64\") {\n",
       "            fig.imageObj.src = evt.data;\n",
       "            fig.updated_canvas_event();\n",
       "            fig.waiting = false;\n",
       "            return;\n",
       "        }\n",
       "\n",
       "        var msg = JSON.parse(evt.data);\n",
       "        var msg_type = msg['type'];\n",
       "\n",
       "        // Call the  \"handle_{type}\" callback, which takes\n",
       "        // the figure and JSON message as its only arguments.\n",
       "        try {\n",
       "            var callback = fig[\"handle_\" + msg_type];\n",
       "        } catch (e) {\n",
       "            console.log(\"No handler for the '\" + msg_type + \"' message type: \", msg);\n",
       "            return;\n",
       "        }\n",
       "\n",
       "        if (callback) {\n",
       "            try {\n",
       "                // console.log(\"Handling '\" + msg_type + \"' message: \", msg);\n",
       "                callback(fig, msg);\n",
       "            } catch (e) {\n",
       "                console.log(\"Exception inside the 'handler_\" + msg_type + \"' callback:\", e, e.stack, msg);\n",
       "            }\n",
       "        }\n",
       "    };\n",
       "}\n",
       "\n",
       "// from http://stackoverflow.com/questions/1114465/getting-mouse-location-in-canvas\n",
       "mpl.findpos = function(e) {\n",
       "    //this section is from http://www.quirksmode.org/js/events_properties.html\n",
       "    var targ;\n",
       "    if (!e)\n",
       "        e = window.event;\n",
       "    if (e.target)\n",
       "        targ = e.target;\n",
       "    else if (e.srcElement)\n",
       "        targ = e.srcElement;\n",
       "    if (targ.nodeType == 3) // defeat Safari bug\n",
       "        targ = targ.parentNode;\n",
       "\n",
       "    // jQuery normalizes the pageX and pageY\n",
       "    // pageX,Y are the mouse positions relative to the document\n",
       "    // offset() returns the position of the element relative to the document\n",
       "    var x = e.pageX - $(targ).offset().left;\n",
       "    var y = e.pageY - $(targ).offset().top;\n",
       "\n",
       "    return {\"x\": x, \"y\": y};\n",
       "};\n",
       "\n",
       "/*\n",
       " * return a copy of an object with only non-object keys\n",
       " * we need this to avoid circular references\n",
       " * http://stackoverflow.com/a/24161582/3208463\n",
       " */\n",
       "function simpleKeys (original) {\n",
       "  return Object.keys(original).reduce(function (obj, key) {\n",
       "    if (typeof original[key] !== 'object')\n",
       "        obj[key] = original[key]\n",
       "    return obj;\n",
       "  }, {});\n",
       "}\n",
       "\n",
       "mpl.figure.prototype.mouse_event = function(event, name) {\n",
       "    var canvas_pos = mpl.findpos(event)\n",
       "\n",
       "    if (name === 'button_press')\n",
       "    {\n",
       "        this.canvas.focus();\n",
       "        this.canvas_div.focus();\n",
       "    }\n",
       "\n",
       "    var x = canvas_pos.x * mpl.ratio;\n",
       "    var y = canvas_pos.y * mpl.ratio;\n",
       "\n",
       "    this.send_message(name, {x: x, y: y, button: event.button,\n",
       "                             step: event.step,\n",
       "                             guiEvent: simpleKeys(event)});\n",
       "\n",
       "    /* This prevents the web browser from automatically changing to\n",
       "     * the text insertion cursor when the button is pressed.  We want\n",
       "     * to control all of the cursor setting manually through the\n",
       "     * 'cursor' event from matplotlib */\n",
       "    event.preventDefault();\n",
       "    return false;\n",
       "}\n",
       "\n",
       "mpl.figure.prototype._key_event_extra = function(event, name) {\n",
       "    // Handle any extra behaviour associated with a key event\n",
       "}\n",
       "\n",
       "mpl.figure.prototype.key_event = function(event, name) {\n",
       "\n",
       "    // Prevent repeat events\n",
       "    if (name == 'key_press')\n",
       "    {\n",
       "        if (event.which === this._key)\n",
       "            return;\n",
       "        else\n",
       "            this._key = event.which;\n",
       "    }\n",
       "    if (name == 'key_release')\n",
       "        this._key = null;\n",
       "\n",
       "    var value = '';\n",
       "    if (event.ctrlKey && event.which != 17)\n",
       "        value += \"ctrl+\";\n",
       "    if (event.altKey && event.which != 18)\n",
       "        value += \"alt+\";\n",
       "    if (event.shiftKey && event.which != 16)\n",
       "        value += \"shift+\";\n",
       "\n",
       "    value += 'k';\n",
       "    value += event.which.toString();\n",
       "\n",
       "    this._key_event_extra(event, name);\n",
       "\n",
       "    this.send_message(name, {key: value,\n",
       "                             guiEvent: simpleKeys(event)});\n",
       "    return false;\n",
       "}\n",
       "\n",
       "mpl.figure.prototype.toolbar_button_onclick = function(name) {\n",
       "    if (name == 'download') {\n",
       "        this.handle_save(this, null);\n",
       "    } else {\n",
       "        this.send_message(\"toolbar_button\", {name: name});\n",
       "    }\n",
       "};\n",
       "\n",
       "mpl.figure.prototype.toolbar_button_onmouseover = function(tooltip) {\n",
       "    this.message.textContent = tooltip;\n",
       "};\n",
       "mpl.toolbar_items = [[\"Home\", \"Reset original view\", \"fa fa-home icon-home\", \"home\"], [\"Back\", \"Back to  previous view\", \"fa fa-arrow-left icon-arrow-left\", \"back\"], [\"Forward\", \"Forward to next view\", \"fa fa-arrow-right icon-arrow-right\", \"forward\"], [\"\", \"\", \"\", \"\"], [\"Pan\", \"Pan axes with left mouse, zoom with right\", \"fa fa-arrows icon-move\", \"pan\"], [\"Zoom\", \"Zoom to rectangle\", \"fa fa-square-o icon-check-empty\", \"zoom\"], [\"\", \"\", \"\", \"\"], [\"Download\", \"Download plot\", \"fa fa-floppy-o icon-save\", \"download\"]];\n",
       "\n",
       "mpl.extensions = [\"eps\", \"jpeg\", \"pdf\", \"png\", \"ps\", \"raw\", \"svg\", \"tif\"];\n",
       "\n",
       "mpl.default_extension = \"png\";var comm_websocket_adapter = function(comm) {\n",
       "    // Create a \"websocket\"-like object which calls the given IPython comm\n",
       "    // object with the appropriate methods. Currently this is a non binary\n",
       "    // socket, so there is still some room for performance tuning.\n",
       "    var ws = {};\n",
       "\n",
       "    ws.close = function() {\n",
       "        comm.close()\n",
       "    };\n",
       "    ws.send = function(m) {\n",
       "        //console.log('sending', m);\n",
       "        comm.send(m);\n",
       "    };\n",
       "    // Register the callback with on_msg.\n",
       "    comm.on_msg(function(msg) {\n",
       "        //console.log('receiving', msg['content']['data'], msg);\n",
       "        // Pass the mpl event to the overriden (by mpl) onmessage function.\n",
       "        ws.onmessage(msg['content']['data'])\n",
       "    });\n",
       "    return ws;\n",
       "}\n",
       "\n",
       "mpl.mpl_figure_comm = function(comm, msg) {\n",
       "    // This is the function which gets called when the mpl process\n",
       "    // starts-up an IPython Comm through the \"matplotlib\" channel.\n",
       "\n",
       "    var id = msg.content.data.id;\n",
       "    // Get hold of the div created by the display call when the Comm\n",
       "    // socket was opened in Python.\n",
       "    var element = $(\"#\" + id);\n",
       "    var ws_proxy = comm_websocket_adapter(comm)\n",
       "\n",
       "    function ondownload(figure, format) {\n",
       "        window.open(figure.imageObj.src);\n",
       "    }\n",
       "\n",
       "    var fig = new mpl.figure(id, ws_proxy,\n",
       "                           ondownload,\n",
       "                           element.get(0));\n",
       "\n",
       "    // Call onopen now - mpl needs it, as it is assuming we've passed it a real\n",
       "    // web socket which is closed, not our websocket->open comm proxy.\n",
       "    ws_proxy.onopen();\n",
       "\n",
       "    fig.parent_element = element.get(0);\n",
       "    fig.cell_info = mpl.find_output_cell(\"<div id='\" + id + \"'></div>\");\n",
       "    if (!fig.cell_info) {\n",
       "        console.error(\"Failed to find cell for figure\", id, fig);\n",
       "        return;\n",
       "    }\n",
       "\n",
       "    var output_index = fig.cell_info[2]\n",
       "    var cell = fig.cell_info[0];\n",
       "\n",
       "};\n",
       "\n",
       "mpl.figure.prototype.handle_close = function(fig, msg) {\n",
       "    var width = fig.canvas.width/mpl.ratio\n",
       "    fig.root.unbind('remove')\n",
       "\n",
       "    // Update the output cell to use the data from the current canvas.\n",
       "    fig.push_to_output();\n",
       "    var dataURL = fig.canvas.toDataURL();\n",
       "    // Re-enable the keyboard manager in IPython - without this line, in FF,\n",
       "    // the notebook keyboard shortcuts fail.\n",
       "    IPython.keyboard_manager.enable()\n",
       "    $(fig.parent_element).html('<img src=\"' + dataURL + '\" width=\"' + width + '\">');\n",
       "    fig.close_ws(fig, msg);\n",
       "}\n",
       "\n",
       "mpl.figure.prototype.close_ws = function(fig, msg){\n",
       "    fig.send_message('closing', msg);\n",
       "    // fig.ws.close()\n",
       "}\n",
       "\n",
       "mpl.figure.prototype.push_to_output = function(remove_interactive) {\n",
       "    // Turn the data on the canvas into data in the output cell.\n",
       "    var width = this.canvas.width/mpl.ratio\n",
       "    var dataURL = this.canvas.toDataURL();\n",
       "    this.cell_info[1]['text/html'] = '<img src=\"' + dataURL + '\" width=\"' + width + '\">';\n",
       "}\n",
       "\n",
       "mpl.figure.prototype.updated_canvas_event = function() {\n",
       "    // Tell IPython that the notebook contents must change.\n",
       "    IPython.notebook.set_dirty(true);\n",
       "    this.send_message(\"ack\", {});\n",
       "    var fig = this;\n",
       "    // Wait a second, then push the new image to the DOM so\n",
       "    // that it is saved nicely (might be nice to debounce this).\n",
       "    setTimeout(function () { fig.push_to_output() }, 1000);\n",
       "}\n",
       "\n",
       "mpl.figure.prototype._init_toolbar = function() {\n",
       "    var fig = this;\n",
       "\n",
       "    var nav_element = $('<div/>')\n",
       "    nav_element.attr('style', 'width: 100%');\n",
       "    this.root.append(nav_element);\n",
       "\n",
       "    // Define a callback function for later on.\n",
       "    function toolbar_event(event) {\n",
       "        return fig.toolbar_button_onclick(event['data']);\n",
       "    }\n",
       "    function toolbar_mouse_event(event) {\n",
       "        return fig.toolbar_button_onmouseover(event['data']);\n",
       "    }\n",
       "\n",
       "    for(var toolbar_ind in mpl.toolbar_items){\n",
       "        var name = mpl.toolbar_items[toolbar_ind][0];\n",
       "        var tooltip = mpl.toolbar_items[toolbar_ind][1];\n",
       "        var image = mpl.toolbar_items[toolbar_ind][2];\n",
       "        var method_name = mpl.toolbar_items[toolbar_ind][3];\n",
       "\n",
       "        if (!name) { continue; };\n",
       "\n",
       "        var button = $('<button class=\"btn btn-default\" href=\"#\" title=\"' + name + '\"><i class=\"fa ' + image + ' fa-lg\"></i></button>');\n",
       "        button.click(method_name, toolbar_event);\n",
       "        button.mouseover(tooltip, toolbar_mouse_event);\n",
       "        nav_element.append(button);\n",
       "    }\n",
       "\n",
       "    // Add the status bar.\n",
       "    var status_bar = $('<span class=\"mpl-message\" style=\"text-align:right; float: right;\"/>');\n",
       "    nav_element.append(status_bar);\n",
       "    this.message = status_bar[0];\n",
       "\n",
       "    // Add the close button to the window.\n",
       "    var buttongrp = $('<div class=\"btn-group inline pull-right\"></div>');\n",
       "    var button = $('<button class=\"btn btn-mini btn-primary\" href=\"#\" title=\"Stop Interaction\"><i class=\"fa fa-power-off icon-remove icon-large\"></i></button>');\n",
       "    button.click(function (evt) { fig.handle_close(fig, {}); } );\n",
       "    button.mouseover('Stop Interaction', toolbar_mouse_event);\n",
       "    buttongrp.append(button);\n",
       "    var titlebar = this.root.find($('.ui-dialog-titlebar'));\n",
       "    titlebar.prepend(buttongrp);\n",
       "}\n",
       "\n",
       "mpl.figure.prototype._root_extra_style = function(el){\n",
       "    var fig = this\n",
       "    el.on(\"remove\", function(){\n",
       "\tfig.close_ws(fig, {});\n",
       "    });\n",
       "}\n",
       "\n",
       "mpl.figure.prototype._canvas_extra_style = function(el){\n",
       "    // this is important to make the div 'focusable\n",
       "    el.attr('tabindex', 0)\n",
       "    // reach out to IPython and tell the keyboard manager to turn it's self\n",
       "    // off when our div gets focus\n",
       "\n",
       "    // location in version 3\n",
       "    if (IPython.notebook.keyboard_manager) {\n",
       "        IPython.notebook.keyboard_manager.register_events(el);\n",
       "    }\n",
       "    else {\n",
       "        // location in version 2\n",
       "        IPython.keyboard_manager.register_events(el);\n",
       "    }\n",
       "\n",
       "}\n",
       "\n",
       "mpl.figure.prototype._key_event_extra = function(event, name) {\n",
       "    var manager = IPython.notebook.keyboard_manager;\n",
       "    if (!manager)\n",
       "        manager = IPython.keyboard_manager;\n",
       "\n",
       "    // Check for shift+enter\n",
       "    if (event.shiftKey && event.which == 13) {\n",
       "        this.canvas_div.blur();\n",
       "        event.shiftKey = false;\n",
       "        // Send a \"J\" for go to next cell\n",
       "        event.which = 74;\n",
       "        event.keyCode = 74;\n",
       "        manager.command_mode();\n",
       "        manager.handle_keydown(event);\n",
       "    }\n",
       "}\n",
       "\n",
       "mpl.figure.prototype.handle_save = function(fig, msg) {\n",
       "    fig.ondownload(fig, null);\n",
       "}\n",
       "\n",
       "\n",
       "mpl.find_output_cell = function(html_output) {\n",
       "    // Return the cell and output element which can be found *uniquely* in the notebook.\n",
       "    // Note - this is a bit hacky, but it is done because the \"notebook_saving.Notebook\"\n",
       "    // IPython event is triggered only after the cells have been serialised, which for\n",
       "    // our purposes (turning an active figure into a static one), is too late.\n",
       "    var cells = IPython.notebook.get_cells();\n",
       "    var ncells = cells.length;\n",
       "    for (var i=0; i<ncells; i++) {\n",
       "        var cell = cells[i];\n",
       "        if (cell.cell_type === 'code'){\n",
       "            for (var j=0; j<cell.output_area.outputs.length; j++) {\n",
       "                var data = cell.output_area.outputs[j];\n",
       "                if (data.data) {\n",
       "                    // IPython >= 3 moved mimebundle to data attribute of output\n",
       "                    data = data.data;\n",
       "                }\n",
       "                if (data['text/html'] == html_output) {\n",
       "                    return [cell, data, j];\n",
       "                }\n",
       "            }\n",
       "        }\n",
       "    }\n",
       "}\n",
       "\n",
       "// Register the function which deals with the matplotlib target/channel.\n",
       "// The kernel may be null if the page has been refreshed.\n",
       "if (IPython.notebook.kernel != null) {\n",
       "    IPython.notebook.kernel.comm_manager.register_target('matplotlib', mpl.mpl_figure_comm);\n",
       "}\n"
      ],
      "text/plain": [
       "<IPython.core.display.Javascript object>"
      ]
     },
     "metadata": {},
     "output_type": "display_data"
    },
    {
     "data": {
      "text/html": [
       "<img src=\"data:image/png;base64,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\" width=\"640\">"
      ],
      "text/plain": [
       "<IPython.core.display.HTML object>"
      ]
     },
     "metadata": {},
     "output_type": "display_data"
    },
    {
     "data": {
      "text/plain": [
       "<matplotlib.legend.Legend at 0x7fe678891ef0>"
      ]
     },
     "execution_count": 2,
     "metadata": {},
     "output_type": "execute_result"
    }
   ],
   "source": [
    "%matplotlib notebook\n",
    "\n",
    "import pandas as pd\n",
    "import numpy as np\n",
    "import matplotlib\n",
    "\n",
    "from matplotlib import pyplot as plt\n",
    "import seaborn as sns\n",
    "\n",
    "ts = pd.Series(np.random.randn(1000), index=pd.date_range('1/1/2000', periods=1000))\n",
    "ts = ts.cumsum()\n",
    "\n",
    "df = pd.DataFrame(np.random.randn(1000, 4), index=ts.index,\n",
    "                  columns=['A', 'B', 'C', 'D'])\n",
    "df = df.cumsum()\n",
    "df.plot(); plt.legend(loc='best')"
   ]
  },
  {
   "cell_type": "markdown",
   "metadata": {},
   "source": [
    "# Python libraries and Data Structures"
   ]
  },
  {
   "cell_type": "markdown",
   "metadata": {},
   "source": [
    "- Lists They are one of the most versatile data structure in Python. A list can simply be defined by writing a list of comma separated values in square brackets. Lists might contain items of different types, but usually the items all have the same type. Python lists are mutable and individual elements of a list can be changed.\n",
    "Here is a quick example to define a list and then access it:"
   ]
  },
  {
   "cell_type": "code",
   "execution_count": 3,
   "metadata": {
    "collapsed": true
   },
   "outputs": [],
   "source": [
    "squares_list = [1,2,4,9,16,25]"
   ]
  },
  {
   "cell_type": "code",
   "execution_count": 4,
   "metadata": {},
   "outputs": [
    {
     "data": {
      "text/plain": [
       "[1, 2, 4, 9, 16, 25]"
      ]
     },
     "execution_count": 4,
     "metadata": {},
     "output_type": "execute_result"
    }
   ],
   "source": [
    "squares_list"
   ]
  },
  {
   "cell_type": "markdown",
   "metadata": {},
   "source": [
    "Individual Elements can be accessed by using array indexing just as we do in C, C++ etc"
   ]
  },
  {
   "cell_type": "code",
   "execution_count": 5,
   "metadata": {},
   "outputs": [
    {
     "data": {
      "text/plain": [
       "1"
      ]
     },
     "execution_count": 5,
     "metadata": {},
     "output_type": "execute_result"
    }
   ],
   "source": [
    "squares_list[0]"
   ]
  },
  {
   "cell_type": "code",
   "execution_count": 6,
   "metadata": {},
   "outputs": [
    {
     "data": {
      "text/plain": [
       "4"
      ]
     },
     "execution_count": 6,
     "metadata": {},
     "output_type": "execute_result"
    }
   ],
   "source": [
    "squares_list[2]"
   ]
  },
  {
   "cell_type": "markdown",
   "metadata": {},
   "source": [
    "A range of script can be accessed by using [:]"
   ]
  },
  {
   "cell_type": "code",
   "execution_count": 7,
   "metadata": {},
   "outputs": [
    {
     "data": {
      "text/plain": [
       "[1, 2, 4, 9, 16, 25]"
      ]
     },
     "execution_count": 7,
     "metadata": {},
     "output_type": "execute_result"
    }
   ],
   "source": [
    "squares_list[:] # prints all"
   ]
  },
  {
   "cell_type": "code",
   "execution_count": 9,
   "metadata": {},
   "outputs": [
    {
     "data": {
      "text/plain": [
       "[1, 2, 4]"
      ]
     },
     "execution_count": 9,
     "metadata": {},
     "output_type": "execute_result"
    }
   ],
   "source": [
    "squares_list[:3]# excludes the last index"
   ]
  },
  {
   "cell_type": "markdown",
   "metadata": {},
   "source": [
    "A negative indexing is also possible..\n",
    "It access the list from the end.."
   ]
  },
  {
   "cell_type": "code",
   "execution_count": 10,
   "metadata": {},
   "outputs": [
    {
     "data": {
      "text/plain": [
       "25"
      ]
     },
     "execution_count": 10,
     "metadata": {},
     "output_type": "execute_result"
    }
   ],
   "source": [
    "squares_list[-1]"
   ]
  },
  {
   "cell_type": "code",
   "execution_count": 11,
   "metadata": {},
   "outputs": [
    {
     "data": {
      "text/plain": [
       "[25, 16, 9, 4, 2, 1]"
      ]
     },
     "execution_count": 11,
     "metadata": {},
     "output_type": "execute_result"
    }
   ],
   "source": [
    "squares_list[::-1]# reverse a list"
   ]
  },
  {
   "cell_type": "markdown",
   "metadata": {},
   "source": [
    "- Strings They can simply be defined by use of single ( ‘ ), double ( ” ) or triple ( ”’ ) inverted commas. Strings enclosed in tripe quotes ( ”’ ) can span over multiple lines and are used frequently in docstrings (Python’s way of documenting functions). \\ is used as an escape character. Please note that Python strings are immutable, so you can not change part of strings."
   ]
  },
  {
   "cell_type": "code",
   "execution_count": 12,
   "metadata": {},
   "outputs": [
    {
     "name": "stdout",
     "output_type": "stream",
     "text": [
      " \n",
      " Hello\n",
      " Hello World\n"
     ]
    }
   ],
   "source": [
    "greet = ' Hello'\n",
    "print(greet[0])\n",
    "print(greet)\n",
    "print(greet+' World')"
   ]
  },
  {
   "cell_type": "markdown",
   "metadata": {},
   "source": [
    "Raw strings can also be used as a string as is by adding r."
   ]
  },
  {
   "cell_type": "code",
   "execution_count": 13,
   "metadata": {},
   "outputs": [
    {
     "data": {
      "text/plain": [
       "'\\\\n is a newline character'"
      ]
     },
     "execution_count": 13,
     "metadata": {},
     "output_type": "execute_result"
    }
   ],
   "source": [
    "stmt = r'\\n is a newline character'\n",
    "stmt"
   ]
  },
  {
   "cell_type": "code",
   "execution_count": 14,
   "metadata": {},
   "outputs": [
    {
     "ename": "TypeError",
     "evalue": "'str' object does not support item assignment",
     "output_type": "error",
     "traceback": [
      "\u001b[0;31m---------------------------------------------------------------------------\u001b[0m",
      "\u001b[0;31mTypeError\u001b[0m                                 Traceback (most recent call last)",
      "\u001b[0;32m<ipython-input-14-04551d350762>\u001b[0m in \u001b[0;36m<module>\u001b[0;34m()\u001b[0m\n\u001b[1;32m      1\u001b[0m \u001b[0;31m# Python Strings are immutable and hence cannot be changed as such\u001b[0m\u001b[0;34m\u001b[0m\u001b[0;34m\u001b[0m\u001b[0m\n\u001b[0;32m----> 2\u001b[0;31m \u001b[0mgreet\u001b[0m\u001b[0;34m[\u001b[0m\u001b[0;36m1\u001b[0m\u001b[0;34m:\u001b[0m\u001b[0;34m]\u001b[0m \u001b[0;34m=\u001b[0m \u001b[0;34m'h'\u001b[0m\u001b[0;34m\u001b[0m\u001b[0m\n\u001b[0m",
      "\u001b[0;31mTypeError\u001b[0m: 'str' object does not support item assignment"
     ]
    }
   ],
   "source": [
    "# Python Strings are immutable and hence cannot be changed as such\n",
    "greet[1:] = 'h'"
   ]
  },
  {
   "cell_type": "markdown",
   "metadata": {},
   "source": [
    "- Tuples A tuple is represented by a number of values separated by commas. Tuples are immutable and the output is surrounded by parentheses so that nested tuples are processed correctly. Additionally, even though tuples are immutable, they can hold mutable data if needed.Since Tuples are immutable and can not change, they are faster in processing as compared to lists. Hence, if your list is unlikely to change, you should use tuples, instead of lists."
   ]
  },
  {
   "cell_type": "code",
   "execution_count": 15,
   "metadata": {
    "collapsed": true
   },
   "outputs": [],
   "source": [
    "tuple_example = 0, 1, 4, 9, 16, 25"
   ]
  },
  {
   "cell_type": "code",
   "execution_count": 16,
   "metadata": {},
   "outputs": [
    {
     "data": {
      "text/plain": [
       "(0, 1, 4, 9, 16, 25)"
      ]
     },
     "execution_count": 16,
     "metadata": {},
     "output_type": "execute_result"
    }
   ],
   "source": [
    "tuple_example # in parenthesis"
   ]
  },
  {
   "cell_type": "code",
   "execution_count": 17,
   "metadata": {},
   "outputs": [
    {
     "data": {
      "text/plain": [
       "4"
      ]
     },
     "execution_count": 17,
     "metadata": {},
     "output_type": "execute_result"
    }
   ],
   "source": [
    "tuple_example[2]"
   ]
  },
  {
   "cell_type": "code",
   "execution_count": 18,
   "metadata": {},
   "outputs": [
    {
     "data": {
      "text/plain": [
       "(0, 1, 4, 9, 16, 25)"
      ]
     },
     "execution_count": 18,
     "metadata": {},
     "output_type": "execute_result"
    }
   ],
   "source": [
    "tuple_example[:]"
   ]
  },
  {
   "cell_type": "code",
   "execution_count": 19,
   "metadata": {},
   "outputs": [
    {
     "ename": "TypeError",
     "evalue": "'tuple' object does not support item assignment",
     "output_type": "error",
     "traceback": [
      "\u001b[0;31m---------------------------------------------------------------------------\u001b[0m",
      "\u001b[0;31mTypeError\u001b[0m                                 Traceback (most recent call last)",
      "\u001b[0;32m<ipython-input-19-0b167bfe439c>\u001b[0m in \u001b[0;36m<module>\u001b[0;34m()\u001b[0m\n\u001b[0;32m----> 1\u001b[0;31m \u001b[0mtuple_example\u001b[0m\u001b[0;34m[\u001b[0m\u001b[0;36m2\u001b[0m\u001b[0;34m]\u001b[0m \u001b[0;34m=\u001b[0m \u001b[0;36m6\u001b[0m \u001b[0;31m# immutable so error\u001b[0m\u001b[0;34m\u001b[0m\u001b[0m\n\u001b[0m",
      "\u001b[0;31mTypeError\u001b[0m: 'tuple' object does not support item assignment"
     ]
    }
   ],
   "source": [
    "tuple_example[2] = 6 # immutable so error"
   ]
  },
  {
   "cell_type": "markdown",
   "metadata": {},
   "source": [
    "- Dictionary It is an unordered set of key: value pairs, with the requirement that the keys are unique (within one dictionary). A pair of braces creates an empty dictionary: {}. "
   ]
  },
  {
   "cell_type": "code",
   "execution_count": 20,
   "metadata": {
    "collapsed": true
   },
   "outputs": [],
   "source": [
    "extensions = {'a':65, 'b':66, 'c':67}"
   ]
  },
  {
   "cell_type": "code",
   "execution_count": 21,
   "metadata": {},
   "outputs": [
    {
     "data": {
      "text/plain": [
       "{'a': 65, 'b': 66, 'c': 67}"
      ]
     },
     "execution_count": 21,
     "metadata": {},
     "output_type": "execute_result"
    }
   ],
   "source": [
    "extensions"
   ]
  },
  {
   "cell_type": "code",
   "execution_count": 22,
   "metadata": {},
   "outputs": [
    {
     "data": {
      "text/plain": [
       "65"
      ]
     },
     "execution_count": 22,
     "metadata": {},
     "output_type": "execute_result"
    }
   ],
   "source": [
    "extensions['a']"
   ]
  },
  {
   "cell_type": "code",
   "execution_count": 23,
   "metadata": {},
   "outputs": [
    {
     "ename": "KeyError",
     "evalue": "'d'",
     "output_type": "error",
     "traceback": [
      "\u001b[0;31m---------------------------------------------------------------------------\u001b[0m",
      "\u001b[0;31mKeyError\u001b[0m                                  Traceback (most recent call last)",
      "\u001b[0;32m<ipython-input-23-2561564e6f70>\u001b[0m in \u001b[0;36m<module>\u001b[0;34m()\u001b[0m\n\u001b[0;32m----> 1\u001b[0;31m \u001b[0mextensions\u001b[0m\u001b[0;34m[\u001b[0m\u001b[0;34m'd'\u001b[0m\u001b[0;34m]\u001b[0m \u001b[0;31m# error key doesn't exists\u001b[0m\u001b[0;34m\u001b[0m\u001b[0m\n\u001b[0m",
      "\u001b[0;31mKeyError\u001b[0m: 'd'"
     ]
    }
   ],
   "source": [
    "extensions['d'] # error key doesn't exists"
   ]
  },
  {
   "cell_type": "code",
   "execution_count": 24,
   "metadata": {},
   "outputs": [
    {
     "data": {
      "text/plain": [
       "dict_keys(['b', 'a', 'c'])"
      ]
     },
     "execution_count": 24,
     "metadata": {},
     "output_type": "execute_result"
    }
   ],
   "source": [
    "extensions.keys()"
   ]
  },
  {
   "cell_type": "code",
   "execution_count": 25,
   "metadata": {},
   "outputs": [
    {
     "data": {
      "text/plain": [
       "dict_values([66, 65, 67])"
      ]
     },
     "execution_count": 25,
     "metadata": {},
     "output_type": "execute_result"
    }
   ],
   "source": [
    "extensions.values()"
   ]
  },
  {
   "cell_type": "markdown",
   "metadata": {},
   "source": [
    "- Python Iteration and Conditional Constructs\n",
    "Like most languages, Python also has a FOR-loop which is the most widely used method for iteration. It has a simple syntax:"
   ]
  },
  {
   "cell_type": "code",
   "execution_count": 26,
   "metadata": {},
   "outputs": [
    {
     "data": {
      "text/plain": [
       "120"
      ]
     },
     "execution_count": 26,
     "metadata": {},
     "output_type": "execute_result"
    }
   ],
   "source": [
    "'''\n",
    "for i in [Python Iterable]:\n",
    "  expression(i)\n",
    "\n",
    "Here “Python Iterable” can be a list, tuple or other advanced data structures which we will explore in later sections. \n",
    "Let’s take a look at a simple example, determining the factorial of a number.\n",
    "'''\n",
    "fact=1\n",
    "N = 5\n",
    "for i in range(1,N+1): # uptill not equals to last element\n",
    "    fact *= i\n",
    "fact"
   ]
  },
  {
   "cell_type": "code",
   "execution_count": 27,
   "metadata": {},
   "outputs": [
    {
     "name": "stdout",
     "output_type": "stream",
     "text": [
      "Odd\n"
     ]
    }
   ],
   "source": [
    "'''\n",
    "Coming to conditional statements, these are used to execute code fragments based on a condition. \n",
    "The most commonly used construct is if-else, with following syntax:\n",
    "\n",
    "if [condition]:\n",
    "  __execution if true__\n",
    "else:\n",
    "  __execution if false__\n",
    "For instance, if we want to print whether the number N is even or odd:\n",
    "'''\n",
    "if N%2 == 0:\n",
    "    print('Even')\n",
    "else:\n",
    "    print('Odd')"
   ]
  },
  {
   "cell_type": "markdown",
   "metadata": {},
   "source": [
    "### Python Libraries\n",
    "Lets take one step ahead in our journey to learn Python by getting acquainted with some useful libraries. The first step is obviously to learn to import them into our environment. There are several ways of doing so in Python:"
   ]
  },
  {
   "cell_type": "code",
   "execution_count": 28,
   "metadata": {},
   "outputs": [
    {
     "data": {
      "text/plain": [
       "'\\nIn the first manner, we have defined an alias m to library math. \\nWe can now use various functions from math library (e.g. factorial) by referencing it using the alias m.factorial().\\n\\nIn the second manner, you have imported the entire name space in math i.e. \\nyou can directly use factorial() without referring to math.\\n'"
      ]
     },
     "execution_count": 28,
     "metadata": {},
     "output_type": "execute_result"
    }
   ],
   "source": [
    "#1st\n",
    "import math as m \n",
    "# 2nd from math import *\n",
    "'''\n",
    "In the first manner, we have defined an alias m to library math. \n",
    "We can now use various functions from math library (e.g. factorial) by referencing it using the alias m.factorial().\n",
    "\n",
    "In the second manner, you have imported the entire name space in math i.e. \n",
    "you can directly use factorial() without referring to math.\n",
    "'''"
   ]
  },
  {
   "cell_type": "markdown",
   "metadata": {},
   "source": [
    "### Following are a list of libraries, you will need for any scientific computations and data analysis:\n",
    "\n",
    "- NumPy stands for Numerical Python. The most powerful feature of NumPy is n-dimensional array. This library also contains basic linear algebra functions, Fourier transforms,  advanced random number capabilities and tools for integration with other low level languages like Fortran, C and C++\n",
    "- SciPy stands for Scientific Python. SciPy is built on NumPy. It is one of the most useful library for variety of high level science and engineering modules like discrete Fourier transform, Linear Algebra, Optimization and Sparse matrices.\n",
    "- Matplotlib for plotting vast variety of graphs, starting from histograms to line plots to heat plots.. You can use Pylab feature in ipython notebook (ipython notebook –pylab = inline) to use these plotting features inline. If you ignore the inline option, then pylab converts ipython environment to an environment, very similar to Matlab. You can also use Latex commands to add math to your plot.\n",
    "- Pandas for structured data operations and manipulations. It is extensively used for data munging and preparation. Pandas were added relatively recently to Python and have been instrumental in boosting Python’s usage in data scientist community.\n",
    "- Scikit Learn for machine learning. Built on NumPy, SciPy and matplotlib, this library contains a lot of effiecient tools for machine learning and statistical modeling including classification, regression, clustering and dimensionality reduction.\n",
    "- Statsmodels for statistical modeling. Statsmodels is a Python module that allows users to explore data, estimate statistical models, and perform statistical tests. An extensive list of descriptive statistics, statistical tests, plotting functions, and result statistics are available for different types of data and each estimator.\n",
    "- Seaborn for statistical data visualization. Seaborn is a library for making attractive and informative statistical graphics in Python. It is based on matplotlib. Seaborn aims to make visualization a central part of exploring and understanding data.\n",
    "- Bokeh for creating interactive plots, dashboards and data applications on modern web-browsers. It empowers the user to generate elegant and concise graphics in the style of D3.js. Moreover, it has the capability of high-performance interactivity over very large or streaming datasets.\n",
    "- Blaze for extending the capability of Numpy and Pandas to distributed and streaming datasets. It can be used to access data from a multitude of sources including Bcolz, MongoDB, SQLAlchemy, Apache Spark, PyTables, etc. Together with Bokeh, Blaze can act as a very powerful tool for creating effective visualizations and dashboards on huge chunks of data.\n",
    "- Scrapy for web crawling. It is a very useful framework for getting specific patterns of data. It has the capability to start at a website home url and then dig through web-pages within the website to gather information.\n",
    "- SymPy for symbolic computation. It has wide-ranging capabilities from basic symbolic arithmetic to calculus, algebra, discrete mathematics and quantum physics. Another useful feature is the capability of formatting the result of the computations as LaTeX code.\n",
    "- Requests for accessing the web. It works similar to the the standard python library urllib2 but is much easier to code. You will find subtle differences with urllib2 but for beginners, Requests might be more convenient.\n",
    "\n",
    "Additional libraries, you might need:\n",
    "\n",
    "- os for Operating system and file operations\n",
    "- networkx and igraph for graph based data manipulations\n",
    "- regular expressions for finding patterns in text data\n",
    "- BeautifulSoup for scrapping web. It is inferior to Scrapy as it will extract information from just a single webpage in a run.\n",
    "\n",
    "Now that we are familiar with Python fundamentals and additional libraries, lets take a deep dive into problem solving through Python. Yes I mean making a predictive model! In the process, we use some powerful libraries and also come across the next level of data structures. We will take you through the 3 key phases:\n",
    "\n",
    "- Data Exploration – finding out more about the data we have\n",
    "- Data Munging – cleaning the data and playing with it to make it better suit statistical modeling\n",
    "- Predictive Modeling – running the actual algorithms and having fun 🙂"
   ]
  },
  {
   "cell_type": "code",
   "execution_count": 35,
   "metadata": {},
   "outputs": [
    {
     "data": {
      "text/plain": [
       "'\\nList comprehension is powerful and must know concept in Python. \\nYet, this remains one of the most challenging topic for beginners. \\nI intend help each one of you who is facing this trouble in python. \\nMastering this concept would help you in two ways:\\n1. You would start writing shorter and effective codes\\n2. Hence, your code will execute faster\\nDo you know List Comprehensions are 35% faster than FOR loop and 45% faster than map function?\\n'"
      ]
     },
     "execution_count": 35,
     "metadata": {},
     "output_type": "execute_result"
    }
   ],
   "source": [
    "# List Comprehensions\n",
    "'''\n",
    "List comprehension is powerful and must know concept in Python. \n",
    "Yet, this remains one of the most challenging topic for beginners. \n",
    "I intend help each one of you who is facing this trouble in python. \n",
    "Mastering this concept would help you in two ways:\n",
    "1. You would start writing shorter and effective codes\n",
    "2. Hence, your code will execute faster\n",
    "Do you know List Comprehensions are 35% faster than FOR loop and 45% faster than map function?\n",
    "'''"
   ]
  },
  {
   "cell_type": "markdown",
   "metadata": {},
   "source": [
    "Lets look at some of basic examples:\n",
    "\n",
    "- { x^2: x is a natural number less than 10 }\n",
    "- { x: x is a whole number less than 20, x is even }\n",
    "- { x: x is an alphabet in word ‘MATHEMATICS’, x is a vowel }\n",
    "\n",
    "Now let’s look at the corresponding Python codes implementing LC (in the same order):\n",
    "\n",
    "- [x**2 for x in range(0,10)]\n",
    "\n",
    "- [x for x in range(1,20) if x%2==0 ]\n",
    "\n",
    "- [x for x in 'MATHEMATICS' if x in ['A','E','I','O','U']]"
   ]
  },
  {
   "cell_type": "code",
   "execution_count": 38,
   "metadata": {},
   "outputs": [
    {
     "data": {
      "text/plain": [
       "'\\nThe same gets implemented in a simple List Comprehension construct in a single line as:\\n [ output_expression() for(set of values to iterate) if(conditional filtering) ]\\n'"
      ]
     },
     "execution_count": 38,
     "metadata": {},
     "output_type": "execute_result"
    }
   ],
   "source": [
    "'''\n",
    "In a general sense, a FOR loop works as:\n",
    "for (set of values to iterate):\n",
    "  if (conditional filtering): \n",
    "    output_expression()\n",
    "'''\n",
    "'''\n",
    "The same gets implemented in a simple List Comprehension construct in a single line as:\n",
    " [ output_expression() for(set of values to iterate) if(conditional filtering) ]\n",
    "'''"
   ]
  },
  {
   "cell_type": "markdown",
   "metadata": {},
   "source": [
    "Consider another example: { x: x is a natural number less than or equal to 100, x is a perfect square }\n",
    "\n",
    "This can be solved using a for-loop as:"
   ]
  },
  {
   "cell_type": "code",
   "execution_count": 29,
   "metadata": {},
   "outputs": [
    {
     "name": "stdout",
     "output_type": "stream",
     "text": [
      "1 4 9 16 25 36 49 64 81 100 "
     ]
    }
   ],
   "source": [
    "for i in range(1,101):     #the iterator\n",
    "   if int(i**0.5)==i**0.5: #conditional filtering\n",
    "     print (i,end =\" \")    #output-expression in a sinle line seperated by \" \" "
   ]
  },
  {
   "cell_type": "markdown",
   "metadata": {},
   "source": [
    "Now, to create the List Comprehension code, we need to just plug in the different parts:"
   ]
  },
  {
   "cell_type": "code",
   "execution_count": 30,
   "metadata": {},
   "outputs": [
    {
     "data": {
      "text/plain": [
       "[1, 4, 9, 16, 25, 36, 49, 64, 81, 100]"
      ]
     },
     "execution_count": 30,
     "metadata": {},
     "output_type": "execute_result"
    }
   ],
   "source": [
    "[i for i in range(1,101) if int(i**0.5)==i**0.5]"
   ]
  },
  {
   "cell_type": "markdown",
   "metadata": {},
   "source": [
    "I hope it is making more sense now. Once you get a hang of it, List Comprehension is a simple but powerful technique and can help you accomplish a variety of tasks with ease. Things to keep in mind:\n",
    "- List Comprehension will always return a result, whether you use the result or nor.\n",
    "- The iteration and conditional expressions can be nested with multiple instances.\n",
    "- Even the overall List Comprehension can be nested inside another List Comprehension.\n",
    "- Multiple variables can be iterated and manipulated at same time."
   ]
  },
  {
   "cell_type": "markdown",
   "metadata": {},
   "source": [
    "Example 1: Flatten a Matrix\n",
    "\n",
    "Aim: Take a matrix as input and return a list with each row placed on after the other."
   ]
  },
  {
   "cell_type": "code",
   "execution_count": 31,
   "metadata": {},
   "outputs": [
    {
     "name": "stdout",
     "output_type": "stream",
     "text": [
      "Original Matrix: [range(0, 5), range(5, 10), range(10, 15)]\n",
      "FOR-loop result: [0, 1, 2, 3, 4, 5, 6, 7, 8, 9, 10, 11, 12, 13, 14]\n",
      "List Comprehension result      : [0, 1, 2, 3, 4, 5, 6, 7, 8, 9, 10, 11, 12, 13, 14]\n"
     ]
    }
   ],
   "source": [
    "#Python codes with FOR-loop and LC implementations:\n",
    "\n",
    "def eg1_for(matrix):\n",
    "    flat = []\n",
    "    for row in matrix:\n",
    "        for x in row:\n",
    "            flat.append(x)\n",
    "    return flat\n",
    "\n",
    "def eg1_lc(matrix):\n",
    "    return [x for row in matrix for x in row ]\n",
    "\n",
    "#Let’s define a matrix and test the results:\n",
    "\n",
    "matrix = [ range(0,5), range(5,10), range(10,15) ]\n",
    "print (\"Original Matrix: \" + str(matrix))\n",
    "print (\"FOR-loop result: \" + str(eg1_for(matrix)))\n",
    "print (\"List Comprehension result      : \" + str(eg1_lc(matrix)))"
   ]
  },
  {
   "cell_type": "markdown",
   "metadata": {},
   "source": [
    "Example 2: Removing vowels from a sentence\n",
    "\n",
    "Aim: Take a string as input and return a string with vowels removed."
   ]
  },
  {
   "cell_type": "code",
   "execution_count": 53,
   "metadata": {},
   "outputs": [
    {
     "name": "stdout",
     "output_type": "stream",
     "text": [
      "FOR-loop result: My nm s AI Strdys!\n",
      "List Comprehension result      : My nm s AI Strdys!\n"
     ]
    }
   ],
   "source": [
    "#Python codes with FOR-loop and LC implementations:\n",
    "\n",
    "def eg2_for(sentence):\n",
    "    vowels = 'aeiou'\n",
    "    filtered_list = []\n",
    "    for l in sentence:\n",
    "        if l not in vowels:\n",
    "            filtered_list.append(l)\n",
    "    return ''.join(filtered_list)\n",
    "\n",
    "def eg2_lc(sentence):\n",
    "    vowels = 'aeiou'\n",
    "    return ''.join([ l for l in sentence if l not in vowels])\n",
    "\n",
    "#Let’s define a matrix and test the results:\n",
    "\n",
    "sentence = 'My name is AI Saturdays!'\n",
    "print (\"FOR-loop result: \" + eg2_for(sentence))\n",
    "print (\"List Comprehension result      : \" + eg2_lc(sentence))"
   ]
  },
  {
   "cell_type": "markdown",
   "metadata": {},
   "source": [
    "xample 3: Dictionary Comprehension\n",
    "\n",
    "Aim: Take two list of same length as input and return a dictionary with one as keys and other as values."
   ]
  },
  {
   "cell_type": "code",
   "execution_count": 54,
   "metadata": {},
   "outputs": [
    {
     "name": "stdout",
     "output_type": "stream",
     "text": [
      "FOR-loop result: {'India': 'New Delhi', 'Pakistan': 'Islamabad', 'Nepal': 'Kathmandu', 'Bhutan': 'Thimphu', 'China': 'Beijing', 'Bangladesh': 'Dhaka'}\n",
      "List Comprehension result      : {'India': 'New Delhi', 'Pakistan': 'Islamabad', 'Nepal': 'Kathmandu', 'Bhutan': 'Thimphu', 'China': 'Beijing', 'Bangladesh': 'Dhaka'}\n"
     ]
    }
   ],
   "source": [
    "#Python codes with FOR-loop and LC implementations:\n",
    "\n",
    "def eg3_for(keys, values):\n",
    "    dic = {}\n",
    "    for i in range(len(keys)):\n",
    "        dic[keys[i]] = values[i]\n",
    "    return dic\n",
    "\n",
    "def eg3_lc(keys, values):\n",
    "    return { keys[i] : values[i] for i in range(len(keys)) }\n",
    "\n",
    "#Let’s define a matrix and test the results:\n",
    "\n",
    "country = ['India', 'Pakistan', 'Nepal', 'Bhutan', 'China', 'Bangladesh']\n",
    "capital = ['New Delhi', 'Islamabad','Kathmandu', 'Thimphu', 'Beijing', 'Dhaka']\n",
    "print (\"FOR-loop result: \" + str(eg3_for(country, capital)))\n",
    "print (\"List Comprehension result      : \" + str(eg3_lc(country, capital)))"
   ]
  },
  {
   "cell_type": "code",
   "execution_count": 55,
   "metadata": {
    "collapsed": true
   },
   "outputs": [],
   "source": [
    "#I believe things are getting pretty much self-explanatory by now. "
   ]
  },
  {
   "cell_type": "code",
   "execution_count": null,
   "metadata": {
    "collapsed": true
   },
   "outputs": [],
   "source": []
  }
 ],
 "metadata": {
  "kernelspec": {
   "display_name": "Python 3",
   "language": "python",
   "name": "python3"
  },
  "language_info": {
   "codemirror_mode": {
    "name": "ipython",
    "version": 3
   },
   "file_extension": ".py",
   "mimetype": "text/x-python",
   "name": "python",
   "nbconvert_exporter": "python",
   "pygments_lexer": "ipython3",
   "version": "3.5.2"
  }
 },
 "nbformat": 4,
 "nbformat_minor": 1
}
